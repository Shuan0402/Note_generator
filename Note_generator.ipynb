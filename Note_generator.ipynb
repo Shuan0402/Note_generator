{
 "cells": [
  {
   "cell_type": "code",
   "execution_count": 269,
   "metadata": {},
   "outputs": [
    {
     "data": {
      "text/plain": [
       "''"
      ]
     },
     "execution_count": 269,
     "metadata": {},
     "output_type": "execute_result"
    }
   ],
   "source": [
    "# 初始設定\n",
    "import tkinter as tk\n",
    "\n",
    "window = tk.Tk()\n",
    "window.title('Note Generator')\n",
    "window.geometry(\"500x300+500+150\")"
   ]
  },
  {
   "cell_type": "code",
   "execution_count": 270,
   "metadata": {},
   "outputs": [],
   "source": [
    "def txt_viewer(file_name):\n",
    "    txt_window = tk.Toplevel(window)  # 使用 Toplevel() 創建新的視窗，而不是 tk.Tk()\n",
    "    txt_window.title('TXT')\n",
    "    txt_window.geometry(\"500x600+200+200\")\n",
    "    \n",
    "    with open(file_name) as f:\n",
    "        content = f.read()\n",
    "\n",
    "    txt_Label = tk.Label(txt_window, bg='white', fg='black', font=('Arial', 12), width=10, text=content)\n",
    "    txt_Label.pack()\n",
    "\n",
    "    sure_button = tk.Button(txt_window, text='Yes', width=15, height=2, command=lambda: close_window(txt_window))\n",
    "    sure_button.pack()"
   ]
  },
  {
   "cell_type": "code",
   "execution_count": 271,
   "metadata": {},
   "outputs": [],
   "source": [
    "# 開啟文件\n",
    "import os\n",
    "\n",
    "# 當前選取的資料\n",
    "def print_selection():\n",
    "    file_name = listbox.get(listbox.curselection())   # 獲取當前選中的文字\n",
    "    current_file.set(file_name)  # 為label設定值\n",
    "    txt_viewer(file_name)    # 預覽選取文件\n",
    "\n",
    "\n",
    "# 顯示當前選取的資料名稱\n",
    "current_file = tk.StringVar()\n",
    "current_file_label = tk.Label(window, bg = 'white', fg = 'black', font = ('Arial', 12), width = 10, textvariable = current_file)\n",
    "current_file_label.pack()\n",
    "\n",
    "# 選取的確認鍵\n",
    "selection_buttom = tk.Button(window, text = 'print selection', width = 15, height = 2, command = print_selection)\n",
    "selection_buttom.pack()\n",
    "\n",
    "# 開啟 txt 資料夾獲得 txt 選項\n",
    "current_path = os.path.abspath(os.getcwd())\n",
    "current_path = os.path.dirname(current_path)\n",
    "\n",
    "target_folder = os.path.join(current_path, 'txt')\n",
    "\n",
    "if os.getcwd() != target_folder:\n",
    "    os.chdir(target_folder)\n",
    "\n",
    "all_file_names = os.listdir()\n",
    "\n",
    "# 建立 txt 選項清單 \n",
    "listbox = tk.Listbox(window)    \n",
    "for item in all_file_names:\n",
    "    listbox.insert('end', item)  \n",
    "listbox.pack()\n"
   ]
  },
  {
   "cell_type": "code",
   "execution_count": 272,
   "metadata": {},
   "outputs": [],
   "source": [
    "# 主迴圈\n",
    "window.mainloop()"
   ]
  },
  {
   "cell_type": "code",
   "execution_count": 273,
   "metadata": {},
   "outputs": [
    {
     "ename": "FileNotFoundError",
     "evalue": "[WinError 2] 系統找不到指定的檔案。: 'c:\\\\Users\\\\User\\\\Desktop\\\\NTUT\\\\專案\\\\手寫筆記生成器\\\\Note_generator\\\\txt\\\\txt'",
     "output_type": "error",
     "traceback": [
      "\u001b[1;31m---------------------------------------------------------------------------\u001b[0m",
      "\u001b[1;31mFileNotFoundError\u001b[0m                         Traceback (most recent call last)",
      "\u001b[1;32m~\\AppData\\Local\\Temp\\ipykernel_25836\\3333652473.py\u001b[0m in \u001b[0;36m<module>\u001b[1;34m\u001b[0m\n\u001b[0;32m      9\u001b[0m \u001b[1;31m# 檢查目前的工作目錄是否已經在目標資料夾中\u001b[0m\u001b[1;33m\u001b[0m\u001b[1;33m\u001b[0m\u001b[0m\n\u001b[0;32m     10\u001b[0m \u001b[1;32mif\u001b[0m \u001b[0mos\u001b[0m\u001b[1;33m.\u001b[0m\u001b[0mgetcwd\u001b[0m\u001b[1;33m(\u001b[0m\u001b[1;33m)\u001b[0m \u001b[1;33m!=\u001b[0m \u001b[0mtarget_folder\u001b[0m\u001b[1;33m:\u001b[0m\u001b[1;33m\u001b[0m\u001b[1;33m\u001b[0m\u001b[0m\n\u001b[1;32m---> 11\u001b[1;33m     \u001b[0mos\u001b[0m\u001b[1;33m.\u001b[0m\u001b[0mchdir\u001b[0m\u001b[1;33m(\u001b[0m\u001b[0mtarget_folder\u001b[0m\u001b[1;33m)\u001b[0m\u001b[1;33m\u001b[0m\u001b[1;33m\u001b[0m\u001b[0m\n\u001b[0m\u001b[0;32m     12\u001b[0m \u001b[1;33m\u001b[0m\u001b[0m\n\u001b[0;32m     13\u001b[0m \u001b[1;31m# 輸出該資料夾內所有的檔案名稱\u001b[0m\u001b[1;33m\u001b[0m\u001b[1;33m\u001b[0m\u001b[0m\n",
      "\u001b[1;31mFileNotFoundError\u001b[0m: [WinError 2] 系統找不到指定的檔案。: 'c:\\\\Users\\\\User\\\\Desktop\\\\NTUT\\\\專案\\\\手寫筆記生成器\\\\Note_generator\\\\txt\\\\txt'"
     ]
    }
   ],
   "source": [
    "import os\n",
    "\n",
    "# 儲存當前檔案路徑\n",
    "current_path = os.path.abspath(os.getcwd())\n",
    "\n",
    "# 進入到當前檔案位置的另一個資料夾\n",
    "target_folder = os.path.join(current_path, 'txt')\n",
    "\n",
    "# 檢查目前的工作目錄是否已經在目標資料夾中\n",
    "if os.getcwd() != target_folder:\n",
    "    os.chdir(target_folder)\n",
    "\n",
    "# 輸出該資料夾內所有的檔案名稱\n",
    "all_file_names = os.listdir()\n",
    "for file_name in all_file_names:\n",
    "    print(file_name)\n"
   ]
  }
 ],
 "metadata": {
  "kernelspec": {
   "display_name": "base",
   "language": "python",
   "name": "python3"
  },
  "language_info": {
   "codemirror_mode": {
    "name": "ipython",
    "version": 3
   },
   "file_extension": ".py",
   "mimetype": "text/x-python",
   "name": "python",
   "nbconvert_exporter": "python",
   "pygments_lexer": "ipython3",
   "version": "3.9.13"
  },
  "orig_nbformat": 4
 },
 "nbformat": 4,
 "nbformat_minor": 2
}
