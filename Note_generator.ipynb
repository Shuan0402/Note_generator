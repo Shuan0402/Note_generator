{
 "cells": [
  {
   "cell_type": "code",
   "execution_count": 607,
   "metadata": {},
   "outputs": [
    {
     "data": {
      "text/plain": [
       "''"
      ]
     },
     "execution_count": 607,
     "metadata": {},
     "output_type": "execute_result"
    }
   ],
   "source": [
    "# 初始設定\n",
    "import tkinter as tk\n",
    "\n",
    "window = tk.Tk()\n",
    "window.title('Note Generator')\n",
    "window.geometry(\"500x300+500+150\")"
   ]
  },
  {
   "cell_type": "code",
   "execution_count": 608,
   "metadata": {},
   "outputs": [],
   "source": [
    "def txt_viewer(file_name):\n",
    "    txt_window = tk.Toplevel(window)  # 使用 Toplevel() 創建新的視窗，而不是 tk.Tk()\n",
    "    txt_window.title('TXT')\n",
    "    txt_window.geometry(\"500x600+200+200\")\n",
    "    \n",
    "    with open(file_name) as f:\n",
    "        content = f.read()\n",
    "\n",
    "    txt_Label = tk.Label(txt_window, bg = 'white', fg = 'black', font = ('Arial', 12), width = 10, text = content)\n",
    "    txt_Label.pack()\n",
    "\n",
    "    yes_button = tk.Button(txt_window, text = 'Yes', width = 15, height = 2, command = lambda: class_txt(txt_window))\n",
    "    no_button = tk.Button(txt_window, text = 'No', width = 15, height = 2, command = lambda: close_window(txt_window))\n",
    "    yes_button.place(x = 130, y = 50)\n",
    "    no_button.place(x = 260, y = 50)\n",
    "\n",
    "def close_window(root):\n",
    "    root.destroy()\n",
    "\n",
    "def class_txt(root):\n",
    "    root.destroy()\n",
    "    print(os.getcwd(file_name))\n"
   ]
  },
  {
   "cell_type": "code",
   "execution_count": 609,
   "metadata": {},
   "outputs": [],
   "source": [
    "# 開啟文件\n",
    "import os\n",
    "\n",
    "# 當前選取的資料\n",
    "file_name = None\n",
    "def print_selection():\n",
    "    file_name = listbox.get(listbox.curselection())   # 獲取當前選中的文字\n",
    "    current_file.set(file_name)  # 為label設定值\n",
    "    txt_viewer(file_name)    # 預覽選取文件\n",
    "    file_name = file_name\n",
    "\n",
    "\n",
    "# 顯示當前選取的資料名稱\n",
    "current_file = tk.StringVar()\n",
    "current_file_label = tk.Label(window, bg = 'white', fg = 'black', font = ('Arial', 12), width = 10, textvariable = current_file)\n",
    "current_file_label.pack()\n",
    "\n",
    "# 開啟 txt 資料夾獲得 txt 選項\n",
    "current_path = os.path.abspath(os.getcwd())\n",
    "current_path = os.path.dirname(current_path)\n",
    "\n",
    "target_folder = os.path.join(current_path, 'txt')\n",
    "\n",
    "if os.getcwd() != target_folder:\n",
    "    os.chdir(target_folder)\n",
    "\n",
    "all_file_names = os.listdir()\n",
    "\n",
    "# 建立 txt 選項清單 \n",
    "listbox = tk.Listbox(window)    \n",
    "for item in all_file_names:\n",
    "    listbox.insert('end', item)  \n",
    "listbox.pack()\n",
    "\n",
    "\n",
    "# 選取的確認鍵\n",
    "selection_buttom = tk.Button(window, text = 'print selection', width = 15, height = 2, command = print_selection)\n",
    "selection_buttom.pack()\n",
    "\n"
   ]
  },
  {
   "cell_type": "code",
   "execution_count": 610,
   "metadata": {},
   "outputs": [
    {
     "name": "stdout",
     "output_type": "stream",
     "text": [
      "c:\\Users\\User\\Desktop\\NTUT\\專案\\手寫筆記生成器\\Note_generator\\txt\n",
      "c:\\Users\\User\\Desktop\\NTUT\\專案\\手寫筆記生成器\n",
      "c:\\Users\\User\\Desktop\\NTUT\\專案\\手寫筆記生成器\\Note_generator\\txt\n"
     ]
    }
   ],
   "source": [
    "print(os.path.abspath(os.getcwd()))\n",
    "print(os.path.dirname(current_path))\n",
    "print(target_folder)\n"
   ]
  },
  {
   "cell_type": "code",
   "execution_count": 611,
   "metadata": {},
   "outputs": [
    {
     "name": "stderr",
     "output_type": "stream",
     "text": [
      "Exception in Tkinter callback\n",
      "Traceback (most recent call last):\n",
      "  File \"c:\\Users\\User\\anaconda3\\lib\\tkinter\\__init__.py\", line 1892, in __call__\n",
      "    return self.func(*args)\n",
      "  File \"C:\\Users\\User\\AppData\\Local\\Temp\\ipykernel_25836\\4145985344.py\", line 12, in <lambda>\n",
      "    yes_button = tk.Button(txt_window, text = 'Yes', width = 15, height = 2, command = lambda: class_txt(txt_window))\n",
      "  File \"C:\\Users\\User\\AppData\\Local\\Temp\\ipykernel_25836\\4145985344.py\", line 22, in class_txt\n",
      "    print(os.getcwd(file_name))\n",
      "TypeError: nt.getcwd() takes no arguments (1 given)\n"
     ]
    }
   ],
   "source": [
    "# 主迴圈\n",
    "window.mainloop()"
   ]
  },
  {
   "cell_type": "code",
   "execution_count": 612,
   "metadata": {},
   "outputs": [],
   "source": [
    "import os\n",
    "\n",
    "# 儲存當前檔案路徑\n",
    "current_path = os.path.abspath(os.getcwd())\n",
    "current_path = os.path.abspath(os.path.dirname(os.getcwd()))\n",
    "\n",
    "# 進入到當前檔案位置的另一個資料夾\n",
    "target_folder = os.path.join(current_path, 'txt')\n",
    "\n",
    "# 檢查目前的工作目錄是否已經在目標資料夾中\n",
    "if os.getcwd() != target_folder:\n",
    "    os.chdir(target_folder)\n",
    "\n",
    "# 輸出該資料夾內所有的檔案名稱\n",
    "all_file_names = os.listdir()\n"
   ]
  }
 ],
 "metadata": {
  "kernelspec": {
   "display_name": "base",
   "language": "python",
   "name": "python3"
  },
  "language_info": {
   "codemirror_mode": {
    "name": "ipython",
    "version": 3
   },
   "file_extension": ".py",
   "mimetype": "text/x-python",
   "name": "python",
   "nbconvert_exporter": "python",
   "pygments_lexer": "ipython3",
   "version": "3.9.13"
  },
  "orig_nbformat": 4
 },
 "nbformat": 4,
 "nbformat_minor": 2
}
